{
 "cells": [
  {
   "cell_type": "markdown",
   "metadata": {},
   "source": [
    "## L'instruction conditionnelle"
   ]
  },
  {
   "cell_type": "markdown",
   "metadata": {},
   "source": [
    "Les ordinateurs peuvent prendre des décisions grâce aux instruction conditionnelles.  \n",
    "Avec Python c'est for simple, on utilise le mot-clé `if` qui veut dire *si* en anglais."
   ]
  },
  {
   "cell_type": "markdown",
   "metadata": {},
   "source": [
    "La syntaxe est simple :\n",
    "\n",
    "    if <condition> :\n",
    "        <instructions>\n",
    "        \n",
    "    <suite du programme>\n",
    "\n",
    "On écrit le mot-clé `if` suivi de la condition (du test) de son choix et on termine obligatoirement la ligne par le symbole `:` (*deux points*).  \n",
    "Ensuite on écrit les différentes instructions à éxecuter si la condition est remplie.  \n",
    "Python utilise l'alignement pour déterminer le début et la fin des blocs d'instructions. Il faut donc indenter vers la droite ces instructions à répéter.  \n",
    "Quand on a fini de saisir le bloc d'instruction spécifique au `if`, il faut revenir à l'alignement précédent (celui de la ligne avec le `if`)."
   ]
  },
  {
   "cell_type": "code",
   "execution_count": null,
   "metadata": {},
   "outputs": [],
   "source": [
    "a = 5\n",
    "b = 20\n",
    "\n",
    "if a < b:\n",
    "    print(\"Si vous voyez ce message c'est que a est plus petit que b\")\n",
    "    \n",
    "print(\"Suite du programme...\")"
   ]
  },
  {
   "cell_type": "code",
   "execution_count": null,
   "metadata": {},
   "outputs": [],
   "source": [
    "a = 43\n",
    "b = 20\n",
    "\n",
    "if a < b:\n",
    "    print(\"Si vous voyez ce message c'est que a est plus petit que b\")\n",
    "    \n",
    "print(\"Suite du programme...\")"
   ]
  },
  {
   "cell_type": "markdown",
   "metadata": {},
   "source": [
    "On peut ajouter un bloc d'instruction à exécuter si la condtion est fausse avec le mot-clé **else** qui veut dire *sinon* en anglais.  \n",
    "\n",
    "La syntaxe est simple :\n",
    "\n",
    "    if <condition> :\n",
    "        <instructions à faire si la condition est vraie>\n",
    "    else:\n",
    "        <instructions à faire si la condition est fausse>\n",
    "        \n",
    "    <suite du programme>\n",
    "\n",
    "Il n'y a rien à mettre entre `else` et le symbole `:`.  \n",
    "C'est même une erreur d'y mettre quelque chose."
   ]
  },
  {
   "cell_type": "code",
   "execution_count": null,
   "metadata": {},
   "outputs": [],
   "source": [
    "a = 43\n",
    "b = 20\n",
    "\n",
    "if a < b:\n",
    "    print(\"Si vous voyez ce message c'est que a est plus petit que b\")\n",
    "else:\n",
    "    print(\"Si vous voyez ce message c'est que a n'est pas plus petit que b\")\n",
    "    \n",
    "print(\"Suite du programme...\")"
   ]
  },
  {
   "cell_type": "markdown",
   "metadata": {},
   "source": [
    "Il existe beaucoup de conditions différentes qu'on peut utiliser.\n",
    "\n",
    "Les plus simples sont les comparaisons mathématiques entre nombres :\n",
    "\n",
    "\n",
    "|Condition|Syntaxe|\n",
    "| -------------------------------------- | ----------- |\n",
    "|a est-il strictement inférieur à b ? | a < b |\n",
    "|a est-il inférieur ou égal à b ? | a <= b |\n",
    "|a est-il strictement supérieur à b ? | a > b |\n",
    "|a est-il supérieur ou égal à b ? | a >= b |\n",
    "|a est-il compris strictement entre b et c ? | b < a < c |\n",
    "|a est-il compris au sens large entre b et c ? | b <= a <= c |\n",
    "|a est-il égal à b ? | a == b |\n",
    "|a est-il différent b ? | a != b |  \n",
    "\n",
    "On remarquera le test d'égalité qui se fait avec le double symbole `==`.  \n",
    "C'est pour clairement distinguer l'instruction d'affectation et le test d'égalité que cette syntaxe a été choisie.\n"
   ]
  },
  {
   "cell_type": "code",
   "execution_count": null,
   "metadata": {},
   "outputs": [],
   "source": [
    "1 < 3"
   ]
  },
  {
   "cell_type": "code",
   "execution_count": null,
   "metadata": {},
   "outputs": [],
   "source": [
    "3 <= 1"
   ]
  },
  {
   "cell_type": "code",
   "execution_count": null,
   "metadata": {},
   "outputs": [],
   "source": [
    "1 < 3.14 < 10"
   ]
  },
  {
   "cell_type": "code",
   "execution_count": null,
   "metadata": {},
   "outputs": [],
   "source": [
    "1 < 3.14 < 2"
   ]
  },
  {
   "cell_type": "code",
   "execution_count": null,
   "metadata": {},
   "outputs": [],
   "source": [
    "5 == 5"
   ]
  },
  {
   "cell_type": "code",
   "execution_count": null,
   "metadata": {},
   "outputs": [],
   "source": [
    "5 == 6"
   ]
  },
  {
   "cell_type": "code",
   "execution_count": null,
   "metadata": {},
   "outputs": [],
   "source": [
    "5 != 6"
   ]
  },
  {
   "cell_type": "code",
   "execution_count": null,
   "metadata": {},
   "outputs": [],
   "source": [
    "5 != 5"
   ]
  },
  {
   "cell_type": "markdown",
   "metadata": {},
   "source": [
    "On peut aussi combiner différents tests avec les mot-clés `or`, `and` et `not` qui signifient respectivement *ou*, *et* et *non*."
   ]
  },
  {
   "cell_type": "code",
   "execution_count": null,
   "metadata": {},
   "outputs": [],
   "source": [
    "0 == 0 and 1 == 1"
   ]
  },
  {
   "cell_type": "code",
   "execution_count": null,
   "metadata": {},
   "outputs": [],
   "source": [
    "0 == 0 and 1 > 1"
   ]
  },
  {
   "cell_type": "code",
   "execution_count": null,
   "metadata": {},
   "outputs": [],
   "source": [
    "0 == 0 or 1 == 1"
   ]
  },
  {
   "cell_type": "code",
   "execution_count": null,
   "metadata": {},
   "outputs": [],
   "source": [
    "0 < 0 or 1 < 2"
   ]
  },
  {
   "cell_type": "code",
   "execution_count": null,
   "metadata": {},
   "outputs": [],
   "source": [
    "0 > 3 or 1 > 2"
   ]
  },
  {
   "cell_type": "code",
   "execution_count": null,
   "metadata": {},
   "outputs": [],
   "source": [
    "not 5 < 8"
   ]
  },
  {
   "cell_type": "code",
   "execution_count": null,
   "metadata": {},
   "outputs": [],
   "source": [
    "not 5 > 8"
   ]
  }
 ],
 "metadata": {
  "kernelspec": {
   "display_name": "Python 3",
   "language": "python",
   "name": "python3"
  },
  "language_info": {
   "codemirror_mode": {
    "name": "ipython",
    "version": 3
   },
   "file_extension": ".py",
   "mimetype": "text/x-python",
   "name": "python",
   "nbconvert_exporter": "python",
   "pygments_lexer": "ipython3",
   "version": "3.7.3"
  }
 },
 "nbformat": 4,
 "nbformat_minor": 2
}
