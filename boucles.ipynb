{
 "cells": [
  {
   "cell_type": "markdown",
   "metadata": {},
   "source": [
    "## Les boucles\n",
    "\n",
    "En algorithmique, une boucle est une structure permettant de répéter plusieurs fois un bloc d'instruction.\n",
    "\n",
    "On distingue essentiellement deux types de boucle :  \n",
    "- la boucle pour laquelle on ne sait pas exactement à l'avance combien de répétitions il faudra faire. Avec python c'est la boucle **while**. On dit ârfois que c'est une boucle ouverte.  \n",
    "- la boucle pour laquelle on sait exactement à l'avance combien de répétitions il faudra faire. Avec Python c'est la boucle **for**. On dit parfois que c'et une boucle fermée. "
   ]
  },
  {
   "cell_type": "markdown",
   "metadata": {},
   "source": [
    "### 1. Boucle while"
   ]
  },
  {
   "cell_type": "markdown",
   "metadata": {},
   "source": [
    "**while** signifie *tant que* en français.  \n",
    "Une boucle **while** permet de répéter un bloc d'instructions tant qu'une certaine condition est remplie.  \n",
    "\n",
    "La syntaxe est la suivante :\n",
    "\n",
    "    while <condition> :\n",
    "        <instructions>\n",
    "    <suite du programme>\n",
    "\n",
    "Sur une ligne, on écrit le mot-clé `while` suivi de la condition qu'on souhaite utiliser et on termine obligatoirement la ligne par le symbole `:` (*deux points* ).  \n",
    "Ensuite on écrit les différentes instructions à répéter.  \n",
    "Python utilise l'alignement pour déterminer le début et la fin des blocs d'instructions.  Il faut donc indenter vers la droite ces instructions à répéter.  \n",
    "Quand on a fini de saisir le bloc d'instruction à répéter, il faut revenir à l'alignement précédent (celui de la ligne avec le `while`)."
   ]
  },
  {
   "cell_type": "code",
   "execution_count": null,
   "metadata": {},
   "outputs": [],
   "source": [
    "# Exemple avec une boucle qui permet d'afficher les carrés des entiers tant qu'il sont inférieurs à 75 :\n",
    "# Le nombre de répétitions n'est pas évident,\n",
    "# même si avec une racine carrée on pourrait facilement le déterminer.  \n",
    "n = 0\n",
    "print(f\"On part de {n}\")\n",
    "\n",
    "while n**2 < 75:                          # tant que le carré de n est inférieur à 75 faire :\n",
    "    print(f\"le carré de {n} est {n**2}\")      # afficher n et son carré\n",
    "    n = n + 1                                 # augmenter n de une unité pour passer à l'entier suivant\n",
    "    \n",
    "print(\"Stop, avec {n}, le carré dépasserait 75.\")"
   ]
  },
  {
   "cell_type": "code",
   "execution_count": null,
   "metadata": {},
   "outputs": [],
   "source": [
    "# Un autre exemple.\n",
    "# Le nombre de répétitions est cette fois imprévisible.\n",
    "\n",
    "choix = \"oui\"\n",
    "print(\"On lance la boucle.\")\n",
    "\n",
    "while choix != \"non\":\n",
    "    choix = input(\"Voulez-vous continuer ? \")\n",
    "\n",
    "print(\"Ouf, c'est terminé !\")"
   ]
  },
  {
   "cell_type": "markdown",
   "metadata": {},
   "source": [
    "Remarque : On peut utiliser les mêmes types de conditions qu'avec l'instruction **if**"
   ]
  },
  {
   "cell_type": "markdown",
   "metadata": {},
   "source": [
    "### 1. Boucle for"
   ]
  },
  {
   "cell_type": "markdown",
   "metadata": {},
   "source": [
    "**for** signifie *pour* en français.  \n",
    "Une boucle **for** permet de répéter un bloc d'instructions pour chaque valeur d'un ensemble donné.  \n",
    "\n",
    "La syntaxe est la suivante :\n",
    "\n",
    "    for <variable> in <ensemble de valeurs>:\n",
    "        <instructions>\n",
    "    <suite du programme>\n",
    "\n",
    "Sur une ligne, on écrit le mot-clé `for` suivi du nom d'une varaible de son choix puis on met le mot-clé `in` suivi de l'ensemble de valeurs à paracourir et on termine obligatoirement la ligne par le symbole `:` (*deux points* ).  \n",
    "Ensuite on écrit les différentes instructions à répéter.  \n",
    "Python utilise l'alignement pour déterminer le début et la fin des blocs d'instructions.  Il faut donc indenter vers la droite ces instructions à répéter.  \n",
    "Quand on a fini de saisir le bloc d'instruction à répéter, il faut revenir à l'alignement précédent (celui de la ligne avec le `for`)."
   ]
  },
  {
   "cell_type": "code",
   "execution_count": null,
   "metadata": {},
   "outputs": [],
   "source": [
    "# Exemple avec boucle qui affiche une par une toutes les lettres de la chaine de caractères \"bonjour\"\n",
    "\n",
    "print(\"On va épeler le mot 'bonjour' :\")\n",
    "\n",
    "for lettre in \"bonjour\":\n",
    "    print(lettre)\n",
    "    \n",
    "print(\"C'est fait.\")"
   ]
  },
  {
   "cell_type": "markdown",
   "metadata": {},
   "source": [
    "Bien souvent, on veut parcourir une liste d'entiers consécutifs (on compte 0, 1, 2, 3 ... ).  \n",
    "Pour cela il y a la fonction **range**.  \n",
    "`range(n)` désigne l'ensemble des entiers allant de `0` à `n-1`.  \n",
    "Cela fait `n` répétitions puisqu'on commence à compter à `0`."
   ]
  },
  {
   "cell_type": "code",
   "execution_count": null,
   "metadata": {},
   "outputs": [],
   "source": [
    "for i in range(10):\n",
    "    print(i)"
   ]
  },
  {
   "cell_type": "code",
   "execution_count": null,
   "metadata": {},
   "outputs": [],
   "source": [
    "# On peut bien sûr utiliser la variable de la boucle.\n",
    "# C'est une variable comme une autre.\n",
    "# Elle va simplement prendre successivement toutes les valeurs de l'ensemble utilisé.\n",
    "# Il y aura une répétition pour chacune de ces valeurs.\n",
    "\n",
    "for i in range(6):\n",
    "    print(f\"Le double de {i} est {2 * i}\")"
   ]
  },
  {
   "cell_type": "markdown",
   "metadata": {},
   "source": [
    "La fonction **range** possède deux autres variantes.  \n",
    "`range(debut, n)` désigne l'ensemble de tous les entiers allant de `debut` jusquà `n-1`.  \n",
    "`range(debut, n, pas)` désigne l'ensemble des entiers allant de `debut` jusquà `n-1` en avançant de `pas` en `pas`."
   ]
  },
  {
   "cell_type": "code",
   "execution_count": null,
   "metadata": {},
   "outputs": [],
   "source": [
    "for i in range(1, 11):\n",
    "    print(i)"
   ]
  },
  {
   "cell_type": "code",
   "execution_count": null,
   "metadata": {},
   "outputs": [],
   "source": [
    "for i in range(5, 21, 3):\n",
    "    print(i)"
   ]
  },
  {
   "cell_type": "markdown",
   "metadata": {},
   "source": [
    "La boucle **for** est souvent plus pratique qu'une boucle **while** car elle gère automatiquement le changement de valeurs pour la variable de contrôle de la boucle."
   ]
  },
  {
   "cell_type": "code",
   "execution_count": null,
   "metadata": {},
   "outputs": [],
   "source": [
    "for i in range(5):\n",
    "    print(i)"
   ]
  },
  {
   "cell_type": "markdown",
   "metadata": {},
   "source": [
    "On peut toujour faire la même chose avec une boucle **while**, mais c'est souvent moins simple et plus long à écrire."
   ]
  },
  {
   "cell_type": "code",
   "execution_count": null,
   "metadata": {},
   "outputs": [],
   "source": [
    "i = 0\n",
    "while i < 5:\n",
    "    print(i)\n",
    "    i = i + 1"
   ]
  },
  {
   "cell_type": "markdown",
   "metadata": {},
   "source": [
    "### 3) Exercices"
   ]
  },
  {
   "cell_type": "code",
   "execution_count": null,
   "metadata": {},
   "outputs": [],
   "source": [
    "# Exercice 1\n",
    "# Faire une boucle for qui affiche le cube des entiers de 0 à 10\n",
    "\n",
    "# votre code ici"
   ]
  },
  {
   "cell_type": "code",
   "execution_count": null,
   "metadata": {},
   "outputs": [],
   "source": [
    "# Exercice 2\n",
    "# Faire une boucle while qui affiche le cube des entiers de 0 à 10\n",
    "\n",
    "# votre code ici"
   ]
  },
  {
   "cell_type": "code",
   "execution_count": null,
   "metadata": {},
   "outputs": [],
   "source": [
    "# Exercice 3\n",
    "# Faire une boucle while qui divise x par 1.5 et l'affcihe jusqu'à ce que le résultat soit inférieur à 1\n",
    "\n",
    "x  = 10\n",
    "# votre code ici\n"
   ]
  },
  {
   "cell_type": "code",
   "execution_count": null,
   "metadata": {},
   "outputs": [],
   "source": [
    "# Exercice 4\n",
    "# Faire une boucle while qui divise x par 1.5 jusqu'à ce que le résultat soit inférieur à 1.\n",
    "# Cette fois, il faut en plus afficher à la fin le nombre d'itérations utilisées.\n",
    "\n",
    "x = 10\n",
    "nb = 0\n",
    "# votre code ici\n"
   ]
  },
  {
   "cell_type": "code",
   "execution_count": null,
   "metadata": {},
   "outputs": [],
   "source": [
    "# Exercice 5\n",
    "# Faire une boucle  for qui affiche les carrés des 10 premiers entiers pairs\n",
    "\n",
    "# votre code ici\n"
   ]
  },
  {
   "cell_type": "code",
   "execution_count": null,
   "metadata": {},
   "outputs": [],
   "source": [
    "# Exercice 6\n",
    "# Faire une boucle for qui affiche la somme des 20 premiers entiers impairs\n",
    "\n",
    "somme = 0\n",
    "# votre code ici\n"
   ]
  }
 ],
 "metadata": {
  "kernelspec": {
   "display_name": "Python 3",
   "language": "python",
   "name": "python3"
  },
  "language_info": {
   "codemirror_mode": {
    "name": "ipython",
    "version": 3
   },
   "file_extension": ".py",
   "mimetype": "text/x-python",
   "name": "python",
   "nbconvert_exporter": "python",
   "pygments_lexer": "ipython3",
   "version": "3.7.3"
  }
 },
 "nbformat": 4,
 "nbformat_minor": 2
}
