{
 "cells": [
  {
   "cell_type": "markdown",
   "metadata": {},
   "source": [
    "## Les fonctions"
   ]
  },
  {
   "cell_type": "markdown",
   "metadata": {},
   "source": [
    "Python utilise des fonctions en permanence.  \n",
    "On connait déjà les fonctions prédéfinies **print**, **input** et **range**.  \n",
    "Python, come la plupart des langages informatiques, permet de définir de nouvelles fonctions."
   ]
  },
  {
   "cell_type": "markdown",
   "metadata": {},
   "source": [
    "Ce n'est pas anecdotique, c'est en générale l'essentiel de la programmation :  \n",
    "Définir un ensemble de fonctions qui combinées les unes avec les autres donnent le résultat escompté."
   ]
  },
  {
   "cell_type": "markdown",
   "metadata": {},
   "source": [
    "Ces fonctions sont semblables à celles qu'on utilise en mathématiques.  \n",
    "Quand on définit une fonction f par f(x)=x+3 cela signifie que si on envoie un nombre x à la fonction f, elle renvoie le résultat du calcul x+3.  \n",
    "Si on demande f(5) la fonction donne comme résultat 5+3 c'est-àdire 8."
   ]
  },
  {
   "cell_type": "markdown",
   "metadata": {},
   "source": [
    "Pour définir cette fonction dans Python on écrira :"
   ]
  },
  {
   "cell_type": "code",
   "execution_count": null,
   "metadata": {},
   "outputs": [],
   "source": [
    "def f(x):\n",
    "    return x + 3"
   ]
  },
  {
   "cell_type": "code",
   "execution_count": null,
   "metadata": {},
   "outputs": [],
   "source": [
    "f"
   ]
  },
  {
   "cell_type": "code",
   "execution_count": null,
   "metadata": {},
   "outputs": [],
   "source": [
    "f(5)"
   ]
  },
  {
   "cell_type": "code",
   "execution_count": null,
   "metadata": {},
   "outputs": [],
   "source": [
    "f(-2)"
   ]
  },
  {
   "cell_type": "markdown",
   "metadata": {},
   "source": [
    "Le mot-clé `def` est une abréviation de **define function** qui veut dire *définir une fonction*.  \n",
    "Le mot-clé `return` signifie renvoyer.\n",
    "\n",
    "La syntaxe générale pour définir une fonction en Python est :\n",
    "\n",
    "    def <nom de la fonction> (<liste de paramètres>):\n",
    "        <instructions à réaliser >\n",
    "        return <valeur à renvoyer>\n",
    "        \n",
    "En mathématiques, vous n'avez vu que des fonctions avec une seul paramètre (souvent noté x).  \n",
    "Avec python on peut utiliser une variable, ou deux, ou plus. On peut même ne pas en mettre du tout.  \n",
    "Et on peut leur donner le nom qu'on veut bien entendu."
   ]
  },
  {
   "cell_type": "code",
   "execution_count": null,
   "metadata": {},
   "outputs": [],
   "source": [
    "# Voici un exemple plus un peu élaboré que le précédent, avec deux paramètres :\n",
    "def ajouter(a, b):\n",
    "    somme = a + b\n",
    "    return somme"
   ]
  },
  {
   "cell_type": "code",
   "execution_count": null,
   "metadata": {},
   "outputs": [],
   "source": [
    "ajouter"
   ]
  },
  {
   "cell_type": "code",
   "execution_count": null,
   "metadata": {},
   "outputs": [],
   "source": [
    "ajouter(3, 2)"
   ]
  },
  {
   "cell_type": "code",
   "execution_count": null,
   "metadata": {},
   "outputs": [],
   "source": [
    "ajouter(6, 7)"
   ]
  },
  {
   "cell_type": "code",
   "execution_count": null,
   "metadata": {},
   "outputs": [],
   "source": [
    "# Un exemple un peu plus élaboré :\n",
    "def diviser(a, b):\n",
    "    if b == 0:\n",
    "        resultat = \"Erreur, division par 0\"\n",
    "    else:\n",
    "        resultat = a / b\n",
    "    return resultat"
   ]
  },
  {
   "cell_type": "code",
   "execution_count": null,
   "metadata": {},
   "outputs": [],
   "source": [
    "diviser(3, 0)"
   ]
  },
  {
   "cell_type": "code",
   "execution_count": null,
   "metadata": {},
   "outputs": [],
   "source": [
    "diviser(3, 2)"
   ]
  },
  {
   "cell_type": "markdown",
   "metadata": {},
   "source": [
    "La dernière ligne avec le mot-clé `return` n'est pas indispensable.  \n",
    "Par exemple si la fonction sert juste à faire de l'affichage, elle n'a pas besoin de renvoyer une valeur."
   ]
  },
  {
   "cell_type": "code",
   "execution_count": null,
   "metadata": {},
   "outputs": [],
   "source": [
    "def disBonjour(nom):\n",
    "    print(\"Bonjour \" + nom)"
   ]
  },
  {
   "cell_type": "code",
   "execution_count": null,
   "metadata": {},
   "outputs": [],
   "source": [
    "disBonjour(\"Joe\")"
   ]
  },
  {
   "cell_type": "code",
   "execution_count": null,
   "metadata": {},
   "outputs": [],
   "source": [
    "disBonjour(\"Jack\")"
   ]
  },
  {
   "cell_type": "markdown",
   "metadata": {},
   "source": [
    "Les paramètres (variables) utilisés pour définir la fonction sont des noms spécifiques au corps de la fonction.  \n",
    "On dit que ce sont des variables locales.  \n",
    "Les modifier ne modifie pas les éventuelles variables globales qui porteraient le même nom.  "
   ]
  },
  {
   "cell_type": "code",
   "execution_count": null,
   "metadata": {},
   "outputs": [],
   "source": [
    "# Une fonction un peu stupide pour observer ce qu'il se passe avec les variables et les fonctions.\n",
    "def g(x):\n",
    "    print(f\"Au début de l'exécution de la fonction g, x vaut {x}\")\n",
    "    x = 2 * x\n",
    "    print(f\"A la fin de l'exécution de la fonction g, x vaut {x}\")"
   ]
  },
  {
   "cell_type": "code",
   "execution_count": null,
   "metadata": {},
   "outputs": [],
   "source": [
    "g(5)"
   ]
  },
  {
   "cell_type": "code",
   "execution_count": null,
   "metadata": {},
   "outputs": [],
   "source": [
    "# Le x de ce script n'est pas le même x que celui utilisé dans la fonction :\n",
    "x = 7\n",
    "print(f\"Avant d'utiliser g, x vaut {x}\")\n",
    "g(5)\n",
    "g(3)\n",
    "print(f\"Après avoir utilisé g, x vaut {x}\")"
   ]
  },
  {
   "cell_type": "code",
   "execution_count": null,
   "metadata": {},
   "outputs": [],
   "source": [
    "# Encore plus fort : \n",
    "x = 7\n",
    "print(f\"Avant d'utiliser g, x vaut {x}\")\n",
    "g(x)\n",
    "print(f\"Après avoir utilisé g, x vaut {x}\")"
   ]
  }
 ],
 "metadata": {
  "kernelspec": {
   "display_name": "Python 3",
   "language": "python",
   "name": "python3"
  },
  "language_info": {
   "codemirror_mode": {
    "name": "ipython",
    "version": 3
   },
   "file_extension": ".py",
   "mimetype": "text/x-python",
   "name": "python",
   "nbconvert_exporter": "python",
   "pygments_lexer": "ipython3",
   "version": "3.7.3"
  }
 },
 "nbformat": 4,
 "nbformat_minor": 2
}
